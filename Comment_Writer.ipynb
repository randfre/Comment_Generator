{
 "cells": [
  {
   "cell_type": "markdown",
   "metadata": {
    "collapsed": false
   },
   "source": [
    "### Comment Writing Engine\n",
    "\n",
    "#### an application to help teachers write better comments in less time\n"
   ]
  },
  {
   "cell_type": "code",
   "execution_count": 0,
   "metadata": {
    "collapsed": false
   },
   "outputs": [
   ],
   "source": [
   ]
  },
  {
   "cell_type": "code",
   "execution_count": 10,
   "metadata": {
    "collapsed": false
   },
   "outputs": [
    {
     "name": "stdout",
     "output_type": "stream",
     "text": [
      "\n",
      "Ava A\n",
      "Bradley B\n",
      "Charles C\n",
      "Donny D\n",
      "Emily E\n",
      "Frank F\n",
      " Ava: \n",
      "\n",
      "\tIn Ava's English class, we practiced analytical reading and annotation skills using some of the most acclaimed literature of the 20th century. We also practiced creative writing, analytical writing, poetry, and memoir writing skills. In this class, students by the end of the year should become stronger analytical and critical thinkers, and this is achieved through the various learning outcomes. Skills we worked on this year include reading analytically and intentionally. Another skill worked on this year was writing clearly and purposefully. \n",
      "\t Ava, your argumentative essay about George Orwell's \"1984\" was very impressive, and you have demonstrated your strong ability in reading analytically and intentionally. Your analysis of the phrase \"Who controls the past controls the future. Who controls the present controls the past.\" helped strengthen your argument nicely. Though you have shown remarkable progress, it would be wise to continue working on writing clearly and purposefully Given all of your demonstrated progress and depth of knowledge, I highly suggest that you still stop by occasionally in order to extend your knowledge beyond the class targets. You have the material down well, but there is always room to take your work to the next level to prepare for possible future courses. Also, you're a valuable member of class - make sure to stay active in class discussions, and ask questions that can help everyone in the class learn. \n",
      "\tAva, you are very funny and always making people laugh, and you help strengthen the class environment. On the other hand, you tend to disruptively eat in class. In the future, eat a snack before class. Staying more focused on the class environment will help your skills blossom further. Nonetheless, you have demonstrated amazing progress this semester and your overall grade is an A. Looking forward to your work in the next semester! \n",
      "\n",
      "\n",
      "\n",
      " Bradley: \n",
      "\n",
      "\tIn Bradley's Science class, we studied the behavior of the world through the lens of physics. We examined the relation between calculus and physics through waves, position versus acceleration versus velocity, and also studied energy and energy transfer. In this class, students by the end of the year should become stronger analytical and critical thinkers, and this is achieved through the various learning outcomes. Skills we worked on this year include asking relevant questions about the material. Another skill worked on this year was collaborating effectively with your table partners. \n",
      "\t Bradley, your group lab project was very impressive, and you have demonstrated your strong ability in collaborating effectively with your table partners. You demonstrated remarkable growth in collecting and analyzing data. Though you have shown remarkable progress, it would be wise to continue working on demonstrating your understanding of material in your work. Try and find some time during office hours to meet with me. Setting up meetings is incredibly useful for students who are on the cusp of fulling understanding, but just need to talk through their ideas more and gain some confidence. Hopefully with some extra practice we can really elevate your work this next semester. \n",
      "\tBradley, you are are always organized, and you help strengthen the class environment. On the other hand, you talk too much. In the future, sit away from friends. Surround yourself with people who can help you succeed. Nonetheless, you have demonstrated great progress this semester and your overall grade is a B. Looking forward to your work in the next semester! \n",
      "\n",
      "\n",
      "\n",
      " Charles: \n",
      "\n",
      "\tIn Charles's Math class, we created proofs and solved complex equations and real-world problems. We studied change and growth, on various levels, including looking at population sizing, physics, and other real-world models. In this class, students by the end of the year should become stronger analytical and critical thinkers, and this is achieved through the various learning outcomes. Skills we worked on this year include understanding difficult problems to look for solutions. Another skill worked on this year was sharing the information you discover with your peers. \n",
      "\t Charles, your proof of geometric theorem was very impressive, and you have demonstrated your strong ability in understanding difficult problems to look for solutions. Your proof was very detailed and logical.Though you have shown remarkable progress, it would be wise to continue working on sharing the information you discover with your peers Please set up meetings with me; these meetings are very important to ensure that your trajectory leads you to a deeper understanding of the subject rather than disengagement, and can help prepare you for future units when the work gets more difficult. Hopefully with some extra practice we can set you up for success going into the next semester. \n",
      "\tCharles, you are are always on time, and you help strengthen the class environment. On the other hand, you don't work with table partners. In the future, table partners can contribute valuable information. Make sure to hear their ideas, and let them hear yours.  Nonetheless, you have demonstrated solid progress this semester and your overall grade is a C. Looking forward to your work in the next semester! \n",
      "\n",
      "\n",
      "\n",
      " Donny: \n",
      "\n",
      "\tIn Donny's History class, we learned about US History and constructed arguments about key conflicts leading up to and following the Civil War. We studied political, societal, and economic results of various American History events. In this class, students by the end of the year should become stronger analytical and critical thinkers, and this is achieved through the various learning outcomes. Skills we worked on this year include analyzing text. \n",
      "\t Donny, your analytical discussions in class was very impressive, and you have demonstrated your strong ability in engaging in logical and salient arguments through speaking and writing.. Your contributions in discussions are always relevant and helpful to your peers.Though you have shown remarkable progress, it would be wise to continue working on analyzing text Given all of your demonstrated progress and depth of knowledge, I highly suggest that you still stop by occasionally in order to extend your knowledge beyond the class targets. You have the material down well, but there is always room to take your work to the next level to prepare for possible future courses. Also, you're a valuable member of class - make sure to stay active in class discussions, and ask questions that can help everyone in the class learn. \n",
      "\tDonny, you are always raise your hand, and you help strengthen the class environment. On the other hand, you have bad handwriting. In the future, type your work instead, or take a little bit more time when writing out your notes. This will help you understand the textbook reading a bit better. Nonetheless, you have demonstrated amazing progress this semester and your overall grade is an A. Looking forward to your work in the next semester! \n",
      "\n",
      "\n",
      "\n",
      " Emily: \n",
      "\n",
      "\tIn Emily's Coding class, we learned how to solve real-world problems in Python. The class studied data structures, functions, file reading, and other various intermediate coding skills. In this class, students by the end of the year should become stronger analytical and critical thinkers, and this is achieved through the various learning outcomes. Skills we worked on this year include articulating your work to your peers. Another skill worked on this year was creativelying look for solutions to unique coding problems. \n",
      "\t Emily, your final game project was very impressive, and you have demonstrated your strong ability in articulating your work to your peers. Your project worked well and was very interesting.Though you have shown remarkable progress, it would be wise to continue working on creativelying look for solutions to unique coding problems Please set up meetings with me; I am very concerned about how you are understanding the material. These meetings are very important to ensure that your trajectory leads you to a deeper understanding of the subject rather than disengagement. As the class continues to progress, the information builds on itself, and if your foundations are shaky, the rest of your knowledge will continue to maintain surface-level. \n",
      "\tEmily, you are ask good questions, and you help strengthen the class environment. On the other hand, you don't comment code. In the future, commenting code helps with longer pieces of code. This will help you on the more difficult problems you tend to struggle with. Nonetheless, you have demonstrated some progress this semester and your overall grade is a D. Looking forward to your work in the next semester! \n",
      "\n",
      "\n",
      "\n",
      " Frank: \n",
      "\n",
      "\tIn Frank's Math class, we created proofs and solved complex equations and real-world problems. We studied change and growth, on various levels, including looking at population sizing, physics, and other real-world models. In this class, students by the end of the year should become stronger analytical and critical thinkers, and this is achieved through the various learning outcomes. Skills we worked on this year include understanding difficult problems to look for solutions. Another skill worked on this year was sharing the information you discover with your peers. \n",
      "\t Frank, your proof by induction of the sum of the series k^3 in terms of n was very impressive, and you have demonstrated your strong ability in sharing the information you discover with your peers. Your proof was very detailed and logcial. I could tell you hadn't just memorized the proof itself, but rather figured it out using your strong logic and reasoning skills. Though you have shown remarkable progress, it would be wise to continue working on understanding difficult problems to look for solutions Try and find some time during office hours to meet with me. Setting up meetings is incredibly useful for students who are on the cusp of fulling understanding, but just need to talk through their ideas more and gain some confidence. Hopefully with some extra practice we can really elevate your work this next semester. \n",
      "\tFrank, you are are leader in class, and you help strengthen the class environment. On the other hand, you talk too much sometimes. In the future, try to let other kids talk as well. You can learn something from their insights. Nonetheless, you have demonstrated great progress this semester and your overall grade is a B. Looking forward to your work in the next semester! \n",
      "\n",
      "\n",
      "\n"
     ]
    }
   ],
   "source": [
    "#RUN ALL FUNCTIONS FIRST! This is just a compilation of all the student's reports. \n",
    "\n",
    "\n",
    "for name in student_information:\n",
    "    print(name)\n",
    "    \n",
    "\n",
    "def nametofile(name):\n",
    "    \n",
    "    paragraph = overallp(name)\n",
    "    with open(name + '.txt', 'w') as fout:\n",
    "        fout.write(paragraph)\n",
    "\n",
    "    return(overallp(name))\n",
    "\n",
    "\n",
    "    \n",
    "print(nametofile(\"Ava A\"))\n",
    "print(nametofile(\"Bradley B\"))\n",
    "print(nametofile(\"Charles C\"))\n",
    "print(nametofile(\"Donny D\"))\n",
    "print(nametofile(\"Emily E\"))\n",
    "print(nametofile(\"Frank F\"))\n",
    "\n",
    "\n",
    "\n"
   ]
  },
  {
   "cell_type": "code",
   "execution_count": 11,
   "metadata": {
    "collapsed": false
   },
   "outputs": [
    {
     "name": "stdout",
     "output_type": "stream",
     "text": [
      "('practiced analytical reading and annotation skills using some of the most acclaimed literature of the 20th century. We also practiced creative writing, analytical writing, poetry, and memoir writing skills. ', ['I can read analytically and intentionally', 'I can write clearly and purposefully', 'I can make logical arguments about unique perspectives.'])\n"
     ]
    }
   ],
   "source": [
    "# functions and code for reading data files, generating comments and writing them to files\n",
    "import csv\n",
    "\n",
    "\n",
    "\n",
    "class_info = {}\n",
    "# structure: subject: (overview, [learning outcomes])\n",
    "with open('class_info_los2.csv') as csvfile:\n",
    "    lodata = csv.reader(csvfile)\n",
    "    header1 = next(lodata)\n",
    "    for line in lodata:\n",
    "        class_info[line[0]] = (line[1],line[2].split('. '))\n",
    "\n",
    "       \n",
    "             \n",
    "with open('student_data3.csv') as csvfile:\n",
    "    student_information = {}\n",
    "    studentdata = csv.reader(csvfile)\n",
    "    header2 = next(studentdata)\n",
    "    for line in studentdata:\n",
    "        student_information[line[0]] = line[1:]\n",
    "\n",
    "\n",
    "def course_info(student):\n",
    "    '''returns course description and los of whichever class the student is in\n",
    "    input: student\n",
    "    output: tuple(course description,los)'''\n",
    "    return class_info[student_information[student][0]]\n",
    "\n",
    "print(course_info('Ava A'))\n",
    "\n",
    "    \n",
    "def verb_change(lo):\n",
    "    '''takes in a learning outcome and returns a version where I is replaced by you\n",
    "    and the form of the sentence is made into the infinitive\n",
    "    (doing this instead of I can do this)'''\n",
    "    final_form = ''\n",
    "    words = lo.split()\n",
    "    verb = words[2]\n",
    "    if verb[-1] == 'e':\n",
    "        final_form += verb[:-1]+'ing '\n",
    "    else:\n",
    "        final_form += verb+'ing '\n",
    "    for word in words[3:]:\n",
    "        # ignores the first two words of each learning outcome, which is always \"I can\"\n",
    "        # also the third word, which is always the verb\n",
    "        if word == 'I':\n",
    "            final_form += 'you '\n",
    "        elif word == 'my':\n",
    "            final_form += 'your '\n",
    "        else:\n",
    "            final_form += word + ' '\n",
    "        \n",
    "    return final_form"
   ]
  },
  {
   "cell_type": "code",
   "execution_count": 8,
   "metadata": {
    "collapsed": false
   },
   "outputs": [
    {
     "name": "stdout",
     "output_type": "stream",
     "text": [
      "{'': ['', '', '', '', 'Your __ was very impressive. ', '', 'You are _', 'You _', ''], 'Ava A': ['English', 'A', '1', '2', 'argumentative essay about George Orwell\\'s \"1984\"', 'Your analysis of the phrase \"Who controls the past controls the future. Who controls the present controls the past.\" helped strengthen your argument nicely. ', 'very funny and always making people laugh', 'tend to disruptively eat in class', 'eat a snack before class. Staying more focused on the class environment will help your skills blossom further.'], 'Bradley B': ['Science', 'B', '2', '3', 'group lab project', 'You demonstrated remarkable growth in collecting and analyzing data. ', 'are always organized', 'talk too much', 'sit away from friends. Surround yourself with people who can help you succeed.'], 'Charles C': ['Math', 'C', '1', '2', 'proof of geometric theorem', 'Your proof was very detailed and logical.', 'are always on time', \"Don't work with table partners\", 'table partners can contribute valuable information. Make sure to hear their ideas, and let them hear yours. '], 'Donny D': ['History', 'A', '2', '1', 'analytical discussions in class', 'Your contributions in discussions are always relevant and helpful to your peers.', 'always raise your hand', 'Have bad handwriting', 'type your work instead, or take a little bit more time when writing out your notes. This will help you understand the textbook reading a bit better.'], 'Emily E': ['Coding', 'D', '1', '2', 'final game project', 'Your project worked well and was very interesting.', 'ask good questions', \"Don't comment code\", 'commenting code helps with longer pieces of code. This will help you on the more difficult problems you tend to struggle with.'], 'Frank F': ['Math', 'B', '2', '1', 'proof by induction of the sum of the series k^3 in terms of n', \"Your proof was very detailed and logcial. I could tell you hadn't just memorized the proof itself, but rather figured it out using your strong logic and reasoning skills. \", 'are leader in class', 'talk too much sometimes', 'try to let other kids talk as well. You can learn something from their insights.']}\n"
     ]
    }
   ],
   "source": [
    "print(student_information)"
   ]
  },
  {
   "cell_type": "code",
   "execution_count": 7,
   "metadata": {
    "collapsed": false
   },
   "outputs": [
   ],
   "source": [
    "'''each seperate function takes in a student's name and returns the first, second, third, or overall paragraph for that student. str-> str. '''\n",
    "\n",
    "def grade_article(grade):\n",
    "    '''just makes sure each grade as the right article assigned to it\n",
    "    Ex: \"an A\" instead of \"a A\"\n",
    "    input: string (A, B, C, or D)\n",
    "    output: string (an A, a B, etc.)'''\n",
    "    final = 'a'\n",
    "    if grade == 'A':\n",
    "        return final + 'n A'\n",
    "    else:\n",
    "        return final + f' {grade}'\n",
    "\n",
    "\n",
    "def intro_paragraph(student):\n",
    "    \n",
    "    summary = course_info(student)[0]\n",
    "    lospara = (verb_change(course_info(student)[1][0]))\n",
    "    for lo in course_info(student)[1][1:-1]:\n",
    "        lospara += (\". Another skill worked on this year was \" + (verb_change(lo))[:-1])\n",
    "        \n",
    "    paragraph = (f\"In {student}'s {student_information[student][0]} class, we {summary}In this class, students by the end of the year should become stronger analytical and critical thinkers, and this is achieved through the various learning outcomes. Skills we worked on this year include {lospara}. \\n\")\n",
    "    \n",
    "    paragraph = paragraph.replace(\" . \", \". \")\n",
    "        \n",
    "    return(paragraph)\n",
    "\n",
    "    \n",
    "\n",
    "def student_skills(student):\n",
    "    \n",
    "    '''takes in the name of a student\n",
    "    creates one of the paragraphs of the comment\n",
    "    where the order looks like this\n",
    "    good work -> good lo -> thing to work on -> how to help that'''\n",
    "    \n",
    "    \n",
    "    lastsentencedict = {\"A\": \"Given all of your demonstrated progress and depth of knowledge, I highly suggest that you still stop by occasionally in order to extend your knowledge beyond the class targets. You have the material down well, but there is always room to take your work to the next level to prepare for possible future courses. Also, you're a valuable member of class - make sure to stay active in class discussions, and ask questions that can help everyone in the class learn.\",\n",
    "                        \"A-\": \"Let me know if you would like increased assistance from me or your peers. Setting up meetings is incredibly useful for all students - the ones who are finding extreme difficulty, the ones who want to find extra challenge, and the ones who just want to gain more confidence. Also, you're a valuable member of class - make sure to stay active in class discussions, and ask questions that can help everyone in the class learn.\", \n",
    "                        \"B+\": \"Let me know if you would like increased assistance from me or your peers. Setting up meetings is incredibly useful for all students - both those who are finding extreme difficulty and the ones who are looking for an extra challenge. Hopefully with some extra practice we can really elevate your work this next semester.\", \n",
    "                        \"B\": \"Try and find some time during office hours to meet with me. Setting up meetings is incredibly useful for students who are on the cusp of fulling understanding, but just need to talk through their ideas more and gain some confidence. Hopefully with some extra practice we can really elevate your work this next semester.\",\n",
    "                        'B-': \"Try and find some time during office hours to meet with me. Setting up meetings is incredibly useful for students who need a little help getting a better understanding of the material, and a lot of times, just taking a little extra time to meet with me has helped students take their work to the next level.\",\n",
    "                        'C+': \"Please set up meetings with me; these meetings are very important to not only help you with the information we have already covered, but also prepare you for future units when the work gets more difficult. Hopefully with some extra practice we can set you up for success going into the next semester.\",\n",
    "                        \"C\": \"Please set up meetings with me; these meetings are very important to ensure that your trajectory leads you to a deeper understanding of the subject rather than disengagement, and can help prepare you for future units when the work gets more difficult. Hopefully with some extra practice we can set you up for success going into the next semester.\",\n",
    "                        'C-': \"Please set up meetings with me during office hours; the work in future units will continue to get more difficult, and some extra practice with me can help you gain a better grasp of the material, and avoid disengaging entirely. Hopefully this can set you up for success moving into the next semester.\",\n",
    "                        \"D\" : \"Please set up meetings with me; I am very concerned about how you are understanding the material. These meetings are very important to ensure that your trajectory leads you to a deeper understanding of the subject rather than disengagement. As the class continues to progress, the information builds on itself, and if your foundations are shaky, the rest of your knowledge will continue to maintain surface-level.\"\n",
    "    }\n",
    " \n",
    "    allstudentinfo = student_information[student]\n",
    "\n",
    "    goodproject = allstudentinfo[4]\n",
    "    goodprojectreason = allstudentinfo[5]\n",
    "    \n",
    "    los = (course_info(student))[1]\n",
    "    \n",
    "    stronglonum = int(allstudentinfo[2])\n",
    "    growthlonum = int(allstudentinfo[3])\n",
    "    \n",
    "    stronglo = verb_change(los[stronglonum - 1]) \n",
    "    growthlo = verb_change(los[growthlonum - 1]) \n",
    "    lastsentence = lastsentencedict[allstudentinfo[1]]\n",
    "    \n",
    "    paragraph = (f\" {student}, your {(allstudentinfo[4])} was very impressive, and you have demonstrated your strong ability in {stronglo}. {goodprojectreason}Though you have shown remarkable progress, it would be wise to continue working on {growthlo}{lastsentence} \\n\")\n",
    "    \n",
    "    paragraph = paragraph.replace(\" . \", \". \")\n",
    "    \n",
    "    return paragraph\n",
    "       \n",
    "\n",
    "\n",
    "def last_paragraph(student):\n",
    "    '''takes in the name of a student\n",
    "    returns a final paragraph for the comment\n",
    "    including the positive contributions to class environment\n",
    "    the negative contributions and how to work on them\n",
    "    and a final grade for the semester'''\n",
    "    \n",
    "    studentinfo = student_information[student]\n",
    "    posat = studentinfo[6]\n",
    "    grade = studentinfo[1]\n",
    "    negatribute = studentinfo[7]\n",
    "    howtofix = studentinfo[8]\n",
    "    \n",
    "    adj_dict = {'A': 'amazing', 'B':'great','C':'solid','D':'some'}\n",
    "    \n",
    "    paragraph = (f\"{student}, you are {posat.lower()}, and you help strengthen the class environment. On the other hand, you {negatribute.lower()}. In the future, {howtofix} Nonetheless, you have demonstrated {adj_dict[grade]} progress this semester and your overall grade is {grade_article(grade)}. Looking forward to your work in the next semester!\")\n",
    "    \n",
    "    return(paragraph)\n",
    "    \n",
    "\n",
    "    \n",
    "def overallp(student):\n",
    "    '''takes in a student\n",
    "    returns the combined paragraphs that make up the comment for that student\n",
    "    input: student\n",
    "    output:\n",
    "    string'''\n",
    "    return(f\" {student}: \\n\\n\\t{intro_paragraph(student)}\\t{student_skills(student)}\\t{last_paragraph(student)} \\n\\n\\n\").replace(student, student.split()[0])\n",
    "    "
   ]
  },
  {
   "cell_type": "code",
   "execution_count": 0,
   "metadata": {
    "collapsed": false
   },
   "outputs": [
   ],
   "source": [
   ]
  },
  {
   "cell_type": "code",
   "execution_count": 0,
   "metadata": {
    "collapsed": false
   },
   "outputs": [
   ],
   "source": [
   ]
  },
  {
   "cell_type": "code",
   "execution_count": 0,
   "metadata": {
    "collapsed": false
   },
   "outputs": [
   ],
   "source": [
   ]
  },
  {
   "cell_type": "code",
   "execution_count": 3,
   "metadata": {
    "collapsed": false
   },
   "outputs": [
    {
     "ename": "ValueError",
     "evalue": "invalid literal for int() with base 10: 'hi'",
     "output_type": "error",
     "traceback": [
      "\u001b[0;31m---------------------------------------------------------------------------\u001b[0m",
      "\u001b[0;31mValueError\u001b[0m                                Traceback (most recent call last)",
      "Cell \u001b[0;32mIn[3], line 1\u001b[0m\n\u001b[0;32m----> 1\u001b[0m \u001b[38;5;28;43mint\u001b[39;49m\u001b[43m(\u001b[49m\u001b[38;5;124;43m'\u001b[39;49m\u001b[38;5;124;43mhi\u001b[39;49m\u001b[38;5;124;43m'\u001b[39;49m\u001b[43m)\u001b[49m\n",
      "\u001b[0;31mValueError\u001b[0m: invalid literal for int() with base 10: 'hi'"
     ]
    }
   ],
   "source": [
   ]
  },
  {
   "cell_type": "code",
   "execution_count": 0,
   "metadata": {
    "collapsed": false
   },
   "outputs": [
   ],
   "source": [
    "'''In our math class this semester, we have learned to create proofs and solve complex equations. This class involves looking for solutions to difficult problems, collaborating effectively with peers, and preparing for assignments and tests.\n",
    "\n",
    "Frank, your proof by induction was very impressive, and you have shown me you can collaborate effectively with your peers. It was also very detailed and logical. However, going into the second semester, you might need some help looking for solutions to more challenging problems. It might benefit you to meet with me during office hours to help this.\n",
    "\n",
    "You have been a great leader in class . You are definitely a leader in class. However, you dominate class discussions too much sometimes. It would be great if you could help your classmates share their ideas more. Overall, your work this semester has been solid, and you have earned a B as your final grade. Keep up the good work!\n",
    "'''"
   ]
  }
 ],
 "metadata": {
  "kernelspec": {
   "argv": [
    "/ext/jupyter/kernels/anaconda2022/launch.sh",
    "{connection_file}"
   ],
   "display_name": "Python 3 (Anaconda 2022)",
   "env": {
   },
   "language": "python",
   "metadata": {
    "cocalc": {
     "description": "Anaconda 2022.05 Python 3 environment",
     "priority": 5,
     "url": "https://www.anaconda.com/distribution/"
    }
   },
   "name": "anaconda2022",
   "resource_dir": "/ext/jupyter/kernels/anaconda2022"
  },
  "language_info": {
   "codemirror_mode": {
    "name": "ipython",
    "version": 3
   },
   "file_extension": ".py",
   "mimetype": "text/x-python",
   "name": "python",
   "nbconvert_exporter": "python",
   "pygments_lexer": "ipython3",
   "version": "3.9.15"
  }
 },
 "nbformat": 4,
 "nbformat_minor": 4
}
